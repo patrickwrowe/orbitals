{
 "cells": [
  {
   "cell_type": "code",
   "execution_count": 1,
   "id": "aba31952-3513-4d3c-beb9-dede6da94037",
   "metadata": {},
   "outputs": [],
   "source": [
    "%load_ext autoreload\n",
    "%autoreload 2"
   ]
  },
  {
   "cell_type": "code",
   "execution_count": 2,
   "id": "c6476c8f-9591-42e5-97dc-a52dadbe742f",
   "metadata": {},
   "outputs": [],
   "source": [
    "import os, sys\n",
    "import numpy as np\n",
    "import matplotlib.pyplot as plt\n",
    "import skimage as ski"
   ]
  },
  {
   "cell_type": "code",
   "execution_count": 3,
   "id": "ec68d430-184f-46e6-9c69-65f4e38c8bd8",
   "metadata": {},
   "outputs": [],
   "source": [
    "root_dir = os.getcwd()\n",
    "sys.path.append(root_dir)"
   ]
  },
  {
   "cell_type": "code",
   "execution_count": 4,
   "id": "36026417-6a47-46f7-902e-75e2c2a3c990",
   "metadata": {},
   "outputs": [],
   "source": [
    "from src import datatypes, definitions, electron_functions, tools"
   ]
  },
  {
   "cell_type": "code",
   "execution_count": 5,
   "id": "646c30b4-8584-48ca-a545-0858d0859f71",
   "metadata": {},
   "outputs": [],
   "source": [
    "cartesiandensity = datatypes.CartesianElectronDensity(resolution={'x': 25, 'y': 25, 'z': 25}, r_max=2)"
   ]
  },
  {
   "cell_type": "code",
   "execution_count": 6,
   "id": "28513909-0cd8-483f-b16a-44a9e4487208",
   "metadata": {},
   "outputs": [
    {
     "name": "stderr",
     "output_type": "stream",
     "text": [
      "/Users/patrickrowe/Documents/Code/Python/orbitals/src/electron_functions.py:83: RuntimeWarning: invalid value encountered in scalar divide\n",
      "  phi = np.arccos(z / r)\n"
     ]
    }
   ],
   "source": [
    "cartesiandensity.eval_density(2, 1, 0)"
   ]
  },
  {
   "cell_type": "code",
   "execution_count": 7,
   "id": "1dadd066-82a3-4518-9029-d888c6023ab9",
   "metadata": {},
   "outputs": [
    {
     "ename": "AttributeError",
     "evalue": "'DataArray' object has no attribute 'get_density'",
     "output_type": "error",
     "traceback": [
      "\u001b[0;31m---------------------------------------------------------------------------\u001b[0m",
      "\u001b[0;31mAttributeError\u001b[0m                            Traceback (most recent call last)",
      "Cell \u001b[0;32mIn[7], line 1\u001b[0m\n\u001b[0;32m----> 1\u001b[0m plot_density \u001b[38;5;241m=\u001b[39m \u001b[43mtools\u001b[49m\u001b[38;5;241;43m.\u001b[39;49m\u001b[43mclip_density\u001b[49m\u001b[43m(\u001b[49m\u001b[43mcartesiandensity\u001b[49m\u001b[38;5;241;43m.\u001b[39;49m\u001b[43mdensity\u001b[49m\u001b[43m,\u001b[49m\u001b[43m \u001b[49m\u001b[38;5;241;43m0.5\u001b[39;49m\u001b[43m)\u001b[49m\n",
      "File \u001b[0;32m~/Documents/Code/Python/orbitals/src/tools.py:56\u001b[0m, in \u001b[0;36mclip_density\u001b[0;34m(density, threshold)\u001b[0m\n\u001b[1;32m     45\u001b[0m \u001b[38;5;28;01mdef\u001b[39;00m \u001b[38;5;21mclip_density\u001b[39m(density: xr\u001b[38;5;241m.\u001b[39mDataArray, threshold: \u001b[38;5;28mfloat\u001b[39m):\n\u001b[1;32m     46\u001b[0m \u001b[38;5;250m    \u001b[39m\u001b[38;5;124;03m\"\"\"\u001b[39;00m\n\u001b[1;32m     47\u001b[0m \u001b[38;5;124;03m    Returns the electron density clipped to a threshold value.\u001b[39;00m\n\u001b[1;32m     48\u001b[0m \n\u001b[0;32m   (...)\u001b[0m\n\u001b[1;32m     53\u001b[0m \u001b[38;5;124;03m    np.ndarray, clipped electron density\u001b[39;00m\n\u001b[1;32m     54\u001b[0m \u001b[38;5;124;03m    \"\"\"\u001b[39;00m\n\u001b[0;32m---> 56\u001b[0m     electron_density \u001b[38;5;241m=\u001b[39m \u001b[43mdensity\u001b[49m\u001b[38;5;241;43m.\u001b[39;49m\u001b[43mget_density\u001b[49m()\n\u001b[1;32m     58\u001b[0m     dens_range \u001b[38;5;241m=\u001b[39m np\u001b[38;5;241m.\u001b[39mnanmax(electron_density) \u001b[38;5;241m-\u001b[39m np\u001b[38;5;241m.\u001b[39mnanmin(electron_density)\n\u001b[1;32m     59\u001b[0m     abs_threshold \u001b[38;5;241m=\u001b[39m threshold \u001b[38;5;241m*\u001b[39m dens_range\n",
      "File \u001b[0;32m~/miniconda3/envs/main/lib/python3.12/site-packages/xarray/core/common.py:286\u001b[0m, in \u001b[0;36mAttrAccessMixin.__getattr__\u001b[0;34m(self, name)\u001b[0m\n\u001b[1;32m    284\u001b[0m         \u001b[38;5;28;01mwith\u001b[39;00m suppress(\u001b[38;5;167;01mKeyError\u001b[39;00m):\n\u001b[1;32m    285\u001b[0m             \u001b[38;5;28;01mreturn\u001b[39;00m source[name]\n\u001b[0;32m--> 286\u001b[0m \u001b[38;5;28;01mraise\u001b[39;00m \u001b[38;5;167;01mAttributeError\u001b[39;00m(\n\u001b[1;32m    287\u001b[0m     \u001b[38;5;124mf\u001b[39m\u001b[38;5;124m\"\u001b[39m\u001b[38;5;132;01m{\u001b[39;00m\u001b[38;5;28mtype\u001b[39m(\u001b[38;5;28mself\u001b[39m)\u001b[38;5;241m.\u001b[39m\u001b[38;5;18m__name__\u001b[39m\u001b[38;5;132;01m!r}\u001b[39;00m\u001b[38;5;124m object has no attribute \u001b[39m\u001b[38;5;132;01m{\u001b[39;00mname\u001b[38;5;132;01m!r}\u001b[39;00m\u001b[38;5;124m\"\u001b[39m\n\u001b[1;32m    288\u001b[0m )\n",
      "\u001b[0;31mAttributeError\u001b[0m: 'DataArray' object has no attribute 'get_density'"
     ]
    }
   ],
   "source": [
    "plot_density = tools.clip_density(cartesiandensity, 0.5)"
   ]
  },
  {
   "cell_type": "code",
   "execution_count": null,
   "id": "885fe30d-40d7-4c83-aa84-b4de84a393c6",
   "metadata": {},
   "outputs": [],
   "source": [
    "fig = plt.figure()\n",
    "ax = fig.add_subplot(projection='3d')\n",
    "\n",
    "xx, yy, zz = cartesiandensity.meshgrid_coords()\n",
    "\n",
    "ax.scatter3D(xs=xx, ys=yy, zs=zz, c=plot_density)\n",
    "\n",
    "plt.show()"
   ]
  },
  {
   "cell_type": "code",
   "execution_count": null,
   "id": "2ccef8ae-33ad-47db-a92d-7efef4fb3318",
   "metadata": {},
   "outputs": [],
   "source": [
    "mc_surf = ski.measure.marching_cubes(cartesiandensity.get_density(), 0.5)"
   ]
  },
  {
   "cell_type": "code",
   "execution_count": null,
   "id": "94ba7a33-1845-4f34-84d4-347a68127104",
   "metadata": {},
   "outputs": [],
   "source": []
  },
  {
   "cell_type": "code",
   "execution_count": null,
   "id": "8cfbd0f5-ccab-4f16-a0de-286732895367",
   "metadata": {},
   "outputs": [],
   "source": []
  }
 ],
 "metadata": {
  "kernelspec": {
   "display_name": "Python 3 (ipykernel)",
   "language": "python",
   "name": "python3"
  },
  "language_info": {
   "codemirror_mode": {
    "name": "ipython",
    "version": 3
   },
   "file_extension": ".py",
   "mimetype": "text/x-python",
   "name": "python",
   "nbconvert_exporter": "python",
   "pygments_lexer": "ipython3",
   "version": "3.12.3"
  }
 },
 "nbformat": 4,
 "nbformat_minor": 5
}
