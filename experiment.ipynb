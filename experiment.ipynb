{
 "cells": [
  {
   "cell_type": "code",
   "execution_count": null,
   "id": "aba31952-3513-4d3c-beb9-dede6da94037",
   "metadata": {},
   "outputs": [],
   "source": [
    "%load_ext autoreload\n",
    "%autoreload 2\n",
    "\n",
    "%matplotlib widget"
   ]
  },
  {
   "cell_type": "code",
   "execution_count": null,
   "id": "c6476c8f-9591-42e5-97dc-a52dadbe742f",
   "metadata": {},
   "outputs": [],
   "source": [
    "import os, sys"
   ]
  },
  {
   "cell_type": "code",
   "execution_count": null,
   "id": "ec68d430-184f-46e6-9c69-65f4e38c8bd8",
   "metadata": {},
   "outputs": [],
   "source": [
    "root_dir = os.getcwd()\n",
    "sys.path.append(root_dir)"
   ]
  },
  {
   "cell_type": "code",
   "execution_count": null,
   "id": "36026417-6a47-46f7-902e-75e2c2a3c990",
   "metadata": {},
   "outputs": [],
   "source": [
    "from orbitals import datatypes, tools, visualisation"
   ]
  },
  {
   "cell_type": "markdown",
   "id": "7019e396",
   "metadata": {},
   "source": [
    "## Plotting single electron atomic orbitals.\n",
    "\n",
    "We can straightforwardly compute the wavefunction for a single electron atomic orbital, such as the 2p orbital, by specifying the quantum numbers `n`, `l`, and `m`.\n",
    "We can then visualise the desnity associated with this wavefunction in 3D. We have two simple functions to do this, one which will plot the individual points (of the grid on which the wavefunction is evaluated) and one which will use the marching cubes algorithm to plot an isosurface.\n",
    "\n",
    "These wavefunctions can be evaluated and plotted in either Cartesian or spherical coordinates, depending on the desire of the user, by beginning with the appropriate `Wavefunction` object. Either `datatypes.CartesianWavefunction` or `datatypes.RadialWavefunction`. Both classes implement the same interface, so the user can choose which one they prefer, though for plotting purposes, the Cartesian wavefunction is more convenient.\n",
    "\n",
    "Evaluating the wavefunction is done by calling the `eval_wavefunction` method on the `Wavefunction` object, which will compute the wavefunction on a grid of points. This can be expensive for higher resolutions, so this code also implements 3D interpolation. This allows the user to evaluate the wavefunction on a coarse grid and then interpolate to a finer grid for plotting. "
   ]
  },
  {
   "cell_type": "code",
   "execution_count": null,
   "id": "b77bb444",
   "metadata": {},
   "outputs": [],
   "source": [
    "# We must specify the resolution of the grid on which we evaluate the wavefunction.\n",
    "# This is the number of points in each dimension (x, y, z).\n",
    "# The `r_max` parameter specifies the maximum radius from the origin at which we evaluate the wavefunction.\n",
    "# The quantum numbers `n`, `l`, and `m` specify the orbital we want to compute.\n",
    "\n",
    "# NOTE: This becomes expensive for higher resolutions. Below, I'll show a convenient function fo r\n",
    "resolution = {\"x\": 20, \"y\": 20, \"z\": 20}\n",
    "wavefunction = datatypes.CartesianWavefunction.new_1e_atomic_wavefunction(\n",
    "    resolution=resolution,\n",
    "    r_max=3,\n",
    "    n=2, l=1, m=0\n",
    ")\n",
    "wavefunction.eval_wavefunction()"
   ]
  },
  {
   "cell_type": "markdown",
   "id": "f7256184",
   "metadata": {},
   "source": [
    "### Plotting the raw values on a coarse grid."
   ]
  },
  {
   "cell_type": "code",
   "execution_count": null,
   "id": "b8d7fac5",
   "metadata": {},
   "outputs": [],
   "source": [
    "\n",
    "fig, ax = visualisation.plot_clipped_points(\n",
    "    wavefunction, \n",
    "    threshold=0.3,\n",
    ")"
   ]
  },
  {
   "cell_type": "markdown",
   "id": "0682502c",
   "metadata": {},
   "source": [
    "### This looks fine, but we can do a better job by interpolating the wavefunction to a finer grid before plotting.\n",
    "\n",
    "Interpolating the wavefunction to a finer grid, returns a new `Wavefunction` object with the same properties as the original, but with a finer grid."
   ]
  },
  {
   "cell_type": "code",
   "execution_count": null,
   "id": "d225d252",
   "metadata": {},
   "outputs": [],
   "source": [
    "# it looks fine, but we can do a better job by interpolating the wavefunction to a finer grid before plotting.\n",
    "\n",
    "# Interpolating the wavefunction to a finer grid, returns a new `Wavefunction` object with the same properties as the original, but with a finer grid.\n",
    "# The interpolation is so quick as to be effectively free compared to evaluating the wavefunction on the new grid,\n",
    "# But do be cautious, because relying too heavily on it may lead to inaccuracies in downstream calculations (e.g. energy calculations).\n",
    "highres_wavefunction = tools.interpolate_grid_function(wavefunction, new_resolution={'x': 50, 'y': 50, 'z': 50})\n",
    "\n",
    "# Most of the time spent here is actually on visualisation, not on the interpolation.\n",
    "fig, ax = visualisation.plot_clipped_points(\n",
    "    highres_wavefunction, \n",
    "    threshold=0.5,\n",
    "    alpha=0.2,  # Make the points semi-transparent at higher density\n",
    ")"
   ]
  },
  {
   "cell_type": "markdown",
   "id": "ac7f0530",
   "metadata": {},
   "source": [
    "## Visualising the wavefunction with just the isosurface.\n",
    "We can use the `plot_isosurface` function to plot the isosurface of the wavefunction. This function uses the marching cubes algorithm to extract the isosurface from the wavefunction and then plots it. The isosurface is defined by a threshold value."
   ]
  },
  {
   "cell_type": "code",
   "execution_count": null,
   "id": "001bd217",
   "metadata": {},
   "outputs": [],
   "source": [
    "visualisation.plot_isosurface(\n",
    "    highres_wavefunction, \n",
    "    relative_threshold=0.4,\n",
    ")"
   ]
  },
  {
   "cell_type": "markdown",
   "id": "bfa78592",
   "metadata": {},
   "source": [
    "## Inspecting the wavefunction data.\n",
    "\n",
    "Because the underlying calculations rely on attrs and xarray, we can easily inspect the wavefunction data and get nice plotting for free. This is useful for debugging and understanding the wavefunction data. \n"
   ]
  },
  {
   "cell_type": "code",
   "execution_count": null,
   "id": "62fe2599-b961-4fef-9cdb-795a0f054c35",
   "metadata": {},
   "outputs": [],
   "source": [
    "# Xarray offers us a convenient way to access the wavefunction data, inspect the coordinates, resolution etc.\n",
    "\n",
    "highres_wavefunction.wavefunction"
   ]
  },
  {
   "cell_type": "markdown",
   "id": "5f71b6a4-955c-4169-8895-e1b001d7bcaf",
   "metadata": {},
   "source": [
    "## Plotting other orbitals.\n",
    "\n",
    "For example, we can plot the 3d orbital for the 4d orbital by specifying the quantum numbers `n=4`, `l=2`, and `m=0` to plot the dz2 orbital."
   ]
  },
  {
   "cell_type": "code",
   "execution_count": null,
   "id": "0d4d20ed-6f69-4212-a23c-2838243c2ab8",
   "metadata": {},
   "outputs": [],
   "source": [
    "resolution = {\"x\": 20, \"y\": 20, \"z\": 20}\n",
    "dz2_wavefunction = datatypes.CartesianWavefunction.new_1e_atomic_wavefunction(\n",
    "    resolution=resolution,\n",
    "    r_max=5,\n",
    "    n=4, l=2, m=0\n",
    ")\n",
    "dz2_wavefunction.eval_wavefunction()\n",
    "dz2_highres_wavefunction = tools.interpolate_grid_function(dz2_wavefunction, new_resolution={'x': 50, 'y': 50, 'z': 50})\n",
    "visualisation.plot_isosurface(\n",
    "    dz2_highres_wavefunction, \n",
    "    relative_threshold=0.1,\n",
    ")\n"
   ]
  },
  {
   "cell_type": "code",
   "execution_count": null,
   "id": "9ff4b929-63cc-4ae0-a63b-aeb7f53c511c",
   "metadata": {},
   "outputs": [],
   "source": []
  }
 ],
 "metadata": {
  "kernelspec": {
   "display_name": "main",
   "language": "python",
   "name": "python3"
  },
  "language_info": {
   "codemirror_mode": {
    "name": "ipython",
    "version": 3
   },
   "file_extension": ".py",
   "mimetype": "text/x-python",
   "name": "python",
   "nbconvert_exporter": "python",
   "pygments_lexer": "ipython3",
   "version": "3.12.3"
  }
 },
 "nbformat": 4,
 "nbformat_minor": 5
}
